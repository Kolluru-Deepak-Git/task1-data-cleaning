# Task 1: Data Cleaning and Preprocessing
# Dataset: Netflix Movies and TV Shows (Kaggle)

import pandas as pd

# 1. Load dataset
df = pd.read_csv("netflix_titles.csv")

# 2. Quick look at dataset
print("Initial dataset shape:", df.shape)
print(df.info())

# 3. Check missing values
print("Missing values:\n", df.isnull().sum())

# 4. Handle missing values
df['director'].fillna("unknown", inplace=True)
df['country'].fillna("unknown", inplace=True)

# 5. Remove duplicates
df.drop_duplicates(inplace=True)

# 6. Standardize text values
df['type'] = df['type'].str.strip().str.lower()
df['country'] = df['country'].str.strip().str.lower()

# 7. Convert dates
df['date_added'] = pd.to_datetime(df['date_added'], errors='coerce')

# 8. Rename columns
df.columns = df.columns.str.strip().str.lower().str.replace(" ", "_")

# 9. Check data types
print("Data types after cleaning:\n", df.dtypes)

# 10. Save cleaned dataset
df.to_csv("netflix_titles_cleaned.csv", index=False)

print("Final dataset shape:", df.shape)
print("Cleaning completed successfully!")
